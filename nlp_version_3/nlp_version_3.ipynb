{
 "cells": [
  {
   "cell_type": "markdown",
   "metadata": {
    "colab_type": "text",
    "id": "GzFejD_HPFSw"
   },
   "source": [
    "# NLP Intent Classification Model (Yellow Messenger Assignment)\n",
    "\n",
    "**Problem Statement** : Build a classification model using these utterances as the training set for classifying the intents for new utterances. \n",
    "\n",
    "Dataset contains 1450 items . In this dataset all the 1450 utterances are labelled with intents. "
   ]
  },
  {
   "cell_type": "code",
   "execution_count": 0,
   "metadata": {
    "colab": {},
    "colab_type": "code",
    "id": "oRrp4BfnQI5N"
   },
   "outputs": [],
   "source": [
    "# Importing the Libraries\n",
    "\n",
    "import numpy as np\n",
    "import pandas as pd\n",
    "import matplotlib.pyplot as plt\n",
    "import re\n",
    "import nltk\n",
    "from nltk.corpus import stopwords\n",
    "from nltk.tokenize import word_tokenize\n",
    "from nltk.stem import WordNetLemmatizer\n",
    "import warnings\n",
    "warnings.filterwarnings(\"ignore\")\n",
    "import keras\n",
    "from keras.preprocessing.text import Tokenizer\n",
    "from keras.preprocessing.sequence import pad_sequences\n",
    "from keras.utils import to_categorical\n",
    "from keras.models import Sequential, load_model\n",
    "from keras.layers import Dense, LSTM, GRU, Bidirectional, Embedding, Dropout, BatchNormalization\n",
    "from keras.callbacks import ModelCheckpoint\n",
    "from sklearn.preprocessing import OneHotEncoder\n",
    "from sklearn.preprocessing import MultiLabelBinarizer\n",
    "from sklearn.model_selection import train_test_split\n"
   ]
  },
  {
   "cell_type": "code",
   "execution_count": 46,
   "metadata": {
    "colab": {
     "base_uri": "https://localhost:8080/",
     "height": 34
    },
    "colab_type": "code",
    "executionInfo": {
     "elapsed": 589,
     "status": "ok",
     "timestamp": 1579330453071,
     "user": {
      "displayName": "krystal 1952",
      "photoUrl": "https://lh3.googleusercontent.com/a-/AAuE7mAprkGvSyW4usm3KAaX5gwfmf3YvtGa-JGK5QUv=s64",
      "userId": "14175600639714673624"
     },
     "user_tz": -330
    },
    "id": "JSQiOV-8QVhg",
    "outputId": "33e7fbb1-bc6e-4b24-e6df-2c492a0e8dd5"
   },
   "outputs": [
    {
     "name": "stdout",
     "output_type": "stream",
     "text": [
      "Drive already mounted at /content/drive/; to attempt to forcibly remount, call drive.mount(\"/content/drive/\", force_remount=True).\n"
     ]
    }
   ],
   "source": [
    "from google.colab import drive\n",
    "drive.mount('/content/drive/')"
   ]
  },
  {
   "cell_type": "code",
   "execution_count": 0,
   "metadata": {
    "colab": {},
    "colab_type": "code",
    "id": "ZbenF_zmPFS3"
   },
   "outputs": [],
   "source": [
    "# Importing the dataset\n",
    "dt = pd.read_csv(\"/content/drive/My Drive/bmw_training_set.csv\",encoding=\"utf-8\")\n",
    "#dt = pd.read_csv(\"bmw_training_set.csv\",encoding=\"utf-8\")"
   ]
  },
  {
   "cell_type": "code",
   "execution_count": 48,
   "metadata": {
    "colab": {
     "base_uri": "https://localhost:8080/",
     "height": 204
    },
    "colab_type": "code",
    "executionInfo": {
     "elapsed": 788,
     "status": "ok",
     "timestamp": 1579330461633,
     "user": {
      "displayName": "krystal 1952",
      "photoUrl": "https://lh3.googleusercontent.com/a-/AAuE7mAprkGvSyW4usm3KAaX5gwfmf3YvtGa-JGK5QUv=s64",
      "userId": "14175600639714673624"
     },
     "user_tz": -330
    },
    "id": "gh97A8MiPFS8",
    "outputId": "a83e3701-f193-4593-e2aa-a6cb17716fc7"
   },
   "outputs": [
    {
     "data": {
      "text/html": [
       "<div>\n",
       "<style scoped>\n",
       "    .dataframe tbody tr th:only-of-type {\n",
       "        vertical-align: middle;\n",
       "    }\n",
       "\n",
       "    .dataframe tbody tr th {\n",
       "        vertical-align: top;\n",
       "    }\n",
       "\n",
       "    .dataframe thead th {\n",
       "        text-align: right;\n",
       "    }\n",
       "</style>\n",
       "<table border=\"1\" class=\"dataframe\">\n",
       "  <thead>\n",
       "    <tr style=\"text-align: right;\">\n",
       "      <th></th>\n",
       "      <th>Intent</th>\n",
       "      <th>Utterance</th>\n",
       "    </tr>\n",
       "  </thead>\n",
       "  <tbody>\n",
       "    <tr>\n",
       "      <th>0</th>\n",
       "      <td>who_brand_ambd</td>\n",
       "      <td>who is brandambd</td>\n",
       "    </tr>\n",
       "    <tr>\n",
       "      <th>1</th>\n",
       "      <td>future_cars</td>\n",
       "      <td>future cars</td>\n",
       "    </tr>\n",
       "    <tr>\n",
       "      <th>2</th>\n",
       "      <td>ismart</td>\n",
       "      <td>smart cars</td>\n",
       "    </tr>\n",
       "    <tr>\n",
       "      <th>3</th>\n",
       "      <td>bmw_fuel</td>\n",
       "      <td>tell me about fuel type</td>\n",
       "    </tr>\n",
       "    <tr>\n",
       "      <th>4</th>\n",
       "      <td>who_brand_ambd</td>\n",
       "      <td>who is your brand ambassador</td>\n",
       "    </tr>\n",
       "  </tbody>\n",
       "</table>\n",
       "</div>"
      ],
      "text/plain": [
       "           Intent                     Utterance\n",
       "0  who_brand_ambd              who is brandambd\n",
       "1     future_cars                   future cars\n",
       "2          ismart                    smart cars\n",
       "3        bmw_fuel       tell me about fuel type\n",
       "4  who_brand_ambd  who is your brand ambassador"
      ]
     },
     "execution_count": 48,
     "metadata": {
      "tags": []
     },
     "output_type": "execute_result"
    }
   ],
   "source": [
    "# Exploring the dataset\n",
    "dt.head()"
   ]
  },
  {
   "cell_type": "code",
   "execution_count": 49,
   "metadata": {
    "colab": {
     "base_uri": "https://localhost:8080/",
     "height": 173
    },
    "colab_type": "code",
    "executionInfo": {
     "elapsed": 703,
     "status": "ok",
     "timestamp": 1579330461941,
     "user": {
      "displayName": "krystal 1952",
      "photoUrl": "https://lh3.googleusercontent.com/a-/AAuE7mAprkGvSyW4usm3KAaX5gwfmf3YvtGa-JGK5QUv=s64",
      "userId": "14175600639714673624"
     },
     "user_tz": -330
    },
    "id": "jGs42mkdPFTB",
    "outputId": "85291f1e-7dd6-409c-925d-cc03a06c095e"
   },
   "outputs": [
    {
     "data": {
      "text/html": [
       "<div>\n",
       "<style scoped>\n",
       "    .dataframe tbody tr th:only-of-type {\n",
       "        vertical-align: middle;\n",
       "    }\n",
       "\n",
       "    .dataframe tbody tr th {\n",
       "        vertical-align: top;\n",
       "    }\n",
       "\n",
       "    .dataframe thead th {\n",
       "        text-align: right;\n",
       "    }\n",
       "</style>\n",
       "<table border=\"1\" class=\"dataframe\">\n",
       "  <thead>\n",
       "    <tr style=\"text-align: right;\">\n",
       "      <th></th>\n",
       "      <th>Intent</th>\n",
       "      <th>Utterance</th>\n",
       "    </tr>\n",
       "  </thead>\n",
       "  <tbody>\n",
       "    <tr>\n",
       "      <th>count</th>\n",
       "      <td>1451</td>\n",
       "      <td>1451</td>\n",
       "    </tr>\n",
       "    <tr>\n",
       "      <th>unique</th>\n",
       "      <td>144</td>\n",
       "      <td>1414</td>\n",
       "    </tr>\n",
       "    <tr>\n",
       "      <th>top</th>\n",
       "      <td>inconvenience</td>\n",
       "      <td>hello bmw</td>\n",
       "    </tr>\n",
       "    <tr>\n",
       "      <th>freq</th>\n",
       "      <td>107</td>\n",
       "      <td>3</td>\n",
       "    </tr>\n",
       "  </tbody>\n",
       "</table>\n",
       "</div>"
      ],
      "text/plain": [
       "               Intent  Utterance\n",
       "count            1451       1451\n",
       "unique            144       1414\n",
       "top     inconvenience  hello bmw\n",
       "freq              107          3"
      ]
     },
     "execution_count": 49,
     "metadata": {
      "tags": []
     },
     "output_type": "execute_result"
    }
   ],
   "source": [
    "dt.describe()"
   ]
  },
  {
   "cell_type": "code",
   "execution_count": 50,
   "metadata": {
    "colab": {
     "base_uri": "https://localhost:8080/",
     "height": 136
    },
    "colab_type": "code",
    "executionInfo": {
     "elapsed": 833,
     "status": "ok",
     "timestamp": 1579330462716,
     "user": {
      "displayName": "krystal 1952",
      "photoUrl": "https://lh3.googleusercontent.com/a-/AAuE7mAprkGvSyW4usm3KAaX5gwfmf3YvtGa-JGK5QUv=s64",
      "userId": "14175600639714673624"
     },
     "user_tz": -330
    },
    "id": "gzSqC4YOPFTG",
    "outputId": "8590e6d1-dadb-4607-b581-2c2ca013344c"
   },
   "outputs": [
    {
     "name": "stdout",
     "output_type": "stream",
     "text": [
      "<class 'pandas.core.frame.DataFrame'>\n",
      "RangeIndex: 1451 entries, 0 to 1450\n",
      "Data columns (total 2 columns):\n",
      "Intent       1451 non-null object\n",
      "Utterance    1451 non-null object\n",
      "dtypes: object(2)\n",
      "memory usage: 22.8+ KB\n"
     ]
    }
   ],
   "source": [
    "intent = dt[\"Intent\"]\n",
    "utterance = list(dt[\"Utterance\"])\n",
    "dt.info()"
   ]
  },
  {
   "cell_type": "code",
   "execution_count": 51,
   "metadata": {
    "colab": {
     "base_uri": "https://localhost:8080/",
     "height": 136
    },
    "colab_type": "code",
    "executionInfo": {
     "elapsed": 1025,
     "status": "ok",
     "timestamp": 1579330463688,
     "user": {
      "displayName": "krystal 1952",
      "photoUrl": "https://lh3.googleusercontent.com/a-/AAuE7mAprkGvSyW4usm3KAaX5gwfmf3YvtGa-JGK5QUv=s64",
      "userId": "14175600639714673624"
     },
     "user_tz": -330
    },
    "id": "g3t-ixkOPFTM",
    "outputId": "86d66dfc-f85f-4c9f-8270-943da892541d"
   },
   "outputs": [
    {
     "name": "stdout",
     "output_type": "stream",
     "text": [
      "[nltk_data] Downloading package stopwords to /root/nltk_data...\n",
      "[nltk_data]   Package stopwords is already up-to-date!\n",
      "[nltk_data] Downloading package punkt to /root/nltk_data...\n",
      "[nltk_data]   Package punkt is already up-to-date!\n",
      "[nltk_data] Downloading package wordnet to /root/nltk_data...\n",
      "[nltk_data]   Package wordnet is already up-to-date!\n"
     ]
    },
    {
     "data": {
      "text/plain": [
       "True"
      ]
     },
     "execution_count": 51,
     "metadata": {
      "tags": []
     },
     "output_type": "execute_result"
    }
   ],
   "source": [
    "nltk.download(\"stopwords\")\n",
    "nltk.download(\"punkt\")\n",
    "nltk.download('wordnet')"
   ]
  },
  {
   "cell_type": "markdown",
   "metadata": {
    "colab_type": "text",
    "id": "cAkjp0ciPFTR"
   },
   "source": [
    "#### Tokenization"
   ]
  },
  {
   "cell_type": "code",
   "execution_count": 0,
   "metadata": {
    "colab": {},
    "colab_type": "code",
    "id": "Z3Xqp70GPFTT"
   },
   "outputs": [],
   "source": [
    "# Converting the sentences to words and lemmatizing the words\n",
    "lemmatizer = WordNetLemmatizer()\n",
    "def cleaning(utterance):\n",
    "    words = []\n",
    "    \n",
    "    for s in utterance:\n",
    "        clean = re.sub(r'[^ a-z A-Z 0-9]', \" \", s)\n",
    "        w = word_tokenize(clean)\n",
    "        words.append([lemmatizer.lemmatize(i.lower()) for i in w])\n",
    "    return words  "
   ]
  },
  {
   "cell_type": "code",
   "execution_count": 53,
   "metadata": {
    "colab": {
     "base_uri": "https://localhost:8080/",
     "height": 54
    },
    "colab_type": "code",
    "executionInfo": {
     "elapsed": 1034,
     "status": "ok",
     "timestamp": 1579330466283,
     "user": {
      "displayName": "krystal 1952",
      "photoUrl": "https://lh3.googleusercontent.com/a-/AAuE7mAprkGvSyW4usm3KAaX5gwfmf3YvtGa-JGK5QUv=s64",
      "userId": "14175600639714673624"
     },
     "user_tz": -330
    },
    "id": "Y0Symo6HPFTX",
    "outputId": "0315b198-a223-4966-e98a-94fad28df049"
   },
   "outputs": [
    {
     "name": "stdout",
     "output_type": "stream",
     "text": [
      "['who is brandambd', 'future cars', 'smart cars', 'tell me about fuel type', 'who is your brand ambassador', 'how much is it for bmw car', 'is bmw available in delhi', 'why not an indian actor as brandambd', 'when is brandambd  coming to India', 'Can I book bmw in advance?', 'brand ambassador', 'apply for dealership', 'who represents your brand', 'will it run on petrol or diesel', 'Is bmw powered by Internet', 'why british actor', 'Is bmw available in surat', 'brandambd visit india', 'bmw garages car club', 'are there any prebooking available for bmw']\n"
     ]
    }
   ],
   "source": [
    "print(utterance[:20])"
   ]
  },
  {
   "cell_type": "code",
   "execution_count": 54,
   "metadata": {
    "colab": {
     "base_uri": "https://localhost:8080/",
     "height": 71
    },
    "colab_type": "code",
    "executionInfo": {
     "elapsed": 1055,
     "status": "ok",
     "timestamp": 1579330467279,
     "user": {
      "displayName": "krystal 1952",
      "photoUrl": "https://lh3.googleusercontent.com/a-/AAuE7mAprkGvSyW4usm3KAaX5gwfmf3YvtGa-JGK5QUv=s64",
      "userId": "14175600639714673624"
     },
     "user_tz": -330
    },
    "id": "RSwcAzChPFTc",
    "outputId": "04fb398b-8dae-4245-e76e-02a782fd07bb"
   },
   "outputs": [
    {
     "name": "stdout",
     "output_type": "stream",
     "text": [
      "1451\n",
      "[['who', 'is', 'brandambd'], ['future', 'car'], ['smart', 'car'], ['tell', 'me', 'about', 'fuel', 'type'], ['who', 'is', 'your', 'brand', 'ambassador'], ['how', 'much', 'is', 'it', 'for', 'bmw', 'car'], ['is', 'bmw', 'available', 'in', 'delhi'], ['why', 'not', 'an', 'indian', 'actor', 'a', 'brandambd'], ['when', 'is', 'brandambd', 'coming', 'to', 'india'], ['can', 'i', 'book', 'bmw', 'in', 'advance']]\n"
     ]
    }
   ],
   "source": [
    "cleaned_words = cleaning(utterance)\n",
    "print(len(cleaned_words))\n",
    "print(cleaned_words[:10])  "
   ]
  },
  {
   "cell_type": "code",
   "execution_count": 0,
   "metadata": {
    "colab": {},
    "colab_type": "code",
    "id": "2XyUigi5PFTg"
   },
   "outputs": [],
   "source": [
    "# Creating tokenizer\n",
    "def create_tokenizer(words,filters = '!\"#$%&()*+,-./:;<=>?@[\\]^_`{|}~'):\n",
    "    token = Tokenizer(filters = filters)\n",
    "    token.fit_on_texts(words)\n",
    "    return token\n",
    "\n",
    "# Getting maximum length\n",
    "def max_length(words):\n",
    "    return(len(max(words, key = len)))\n",
    "\n"
   ]
  },
  {
   "cell_type": "code",
   "execution_count": 56,
   "metadata": {
    "colab": {
     "base_uri": "https://localhost:8080/",
     "height": 34
    },
    "colab_type": "code",
    "executionInfo": {
     "elapsed": 677,
     "status": "ok",
     "timestamp": 1579330467649,
     "user": {
      "displayName": "krystal 1952",
      "photoUrl": "https://lh3.googleusercontent.com/a-/AAuE7mAprkGvSyW4usm3KAaX5gwfmf3YvtGa-JGK5QUv=s64",
      "userId": "14175600639714673624"
     },
     "user_tz": -330
    },
    "id": "x9aJTp0pPFTk",
    "outputId": "b315fb8f-9a51-4c78-cb6c-79f0e9cf02a0"
   },
   "outputs": [
    {
     "name": "stdout",
     "output_type": "stream",
     "text": [
      "Vocab Size = 925 and Maximum length = 29\n"
     ]
    }
   ],
   "source": [
    "word_tokenizer = create_tokenizer(cleaned_words)\n",
    "vocab_size = len(word_tokenizer.word_index) + 1\n",
    "max_length = max_length(cleaned_words)\n",
    "\n",
    "print(\"Vocab Size = %d and Maximum length = %d\" % (vocab_size, max_length))"
   ]
  },
  {
   "cell_type": "markdown",
   "metadata": {
    "colab_type": "text",
    "id": "sgR8A-ERPFTn"
   },
   "source": [
    "### Encoding"
   ]
  },
  {
   "cell_type": "markdown",
   "metadata": {
    "colab_type": "text",
    "id": "mnU3JxjtPFTo"
   },
   "source": [
    "#### Input Encoding"
   ]
  },
  {
   "cell_type": "code",
   "execution_count": 0,
   "metadata": {
    "colab": {},
    "colab_type": "code",
    "id": "pvVbdhlOPFTp"
   },
   "outputs": [],
   "source": [
    "# Encoding list of words\n",
    "def encoding_doc(token, words):\n",
    "  return(token.texts_to_sequences(words))"
   ]
  },
  {
   "cell_type": "code",
   "execution_count": 58,
   "metadata": {
    "colab": {
     "base_uri": "https://localhost:8080/",
     "height": 187
    },
    "colab_type": "code",
    "executionInfo": {
     "elapsed": 544,
     "status": "ok",
     "timestamp": 1579330469388,
     "user": {
      "displayName": "krystal 1952",
      "photoUrl": "https://lh3.googleusercontent.com/a-/AAuE7mAprkGvSyW4usm3KAaX5gwfmf3YvtGa-JGK5QUv=s64",
      "userId": "14175600639714673624"
     },
     "user_tz": -330
    },
    "id": "myFBwYeCPFTt",
    "outputId": "7bd51f18-8403-45e3-b509-48f55e3b405d"
   },
   "outputs": [
    {
     "data": {
      "text/plain": [
       "[[76, 3, 247],\n",
       " [218, 4],\n",
       " [132, 4],\n",
       " [21, 13, 17, 219, 89],\n",
       " [76, 3, 22, 71, 172],\n",
       " [15, 66, 3, 33, 16, 1, 4],\n",
       " [3, 1, 39, 9, 576],\n",
       " [38, 40, 64, 292, 429, 18, 247],\n",
       " [25, 3, 247, 346, 6, 42],\n",
       " [20, 5, 30, 1, 9, 347]]"
      ]
     },
     "execution_count": 58,
     "metadata": {
      "tags": []
     },
     "output_type": "execute_result"
    }
   ],
   "source": [
    "encoded_doc = encoding_doc(word_tokenizer, cleaned_words)\n",
    "encoded_doc[:10]"
   ]
  },
  {
   "cell_type": "code",
   "execution_count": 0,
   "metadata": {
    "colab": {},
    "colab_type": "code",
    "id": "eXtelSNYPFTx"
   },
   "outputs": [],
   "source": [
    "def padding_doc(encoded_doc, max_length):\n",
    "  return(pad_sequences(encoded_doc, maxlen = max_length, padding = \"post\"))"
   ]
  },
  {
   "cell_type": "code",
   "execution_count": 60,
   "metadata": {
    "colab": {
     "base_uri": "https://localhost:8080/",
     "height": 527
    },
    "colab_type": "code",
    "executionInfo": {
     "elapsed": 701,
     "status": "ok",
     "timestamp": 1579330470704,
     "user": {
      "displayName": "krystal 1952",
      "photoUrl": "https://lh3.googleusercontent.com/a-/AAuE7mAprkGvSyW4usm3KAaX5gwfmf3YvtGa-JGK5QUv=s64",
      "userId": "14175600639714673624"
     },
     "user_tz": -330
    },
    "id": "fik5drJGPFT0",
    "outputId": "a2c884d6-83df-46ad-a185-51e5e5eb75f3"
   },
   "outputs": [
    {
     "data": {
      "text/plain": [
       "array([[ 76,   3, 247,   0,   0,   0,   0,   0,   0,   0,   0,   0,   0,\n",
       "          0,   0,   0,   0,   0,   0,   0,   0,   0,   0,   0,   0,   0,\n",
       "          0,   0,   0],\n",
       "       [218,   4,   0,   0,   0,   0,   0,   0,   0,   0,   0,   0,   0,\n",
       "          0,   0,   0,   0,   0,   0,   0,   0,   0,   0,   0,   0,   0,\n",
       "          0,   0,   0],\n",
       "       [132,   4,   0,   0,   0,   0,   0,   0,   0,   0,   0,   0,   0,\n",
       "          0,   0,   0,   0,   0,   0,   0,   0,   0,   0,   0,   0,   0,\n",
       "          0,   0,   0],\n",
       "       [ 21,  13,  17, 219,  89,   0,   0,   0,   0,   0,   0,   0,   0,\n",
       "          0,   0,   0,   0,   0,   0,   0,   0,   0,   0,   0,   0,   0,\n",
       "          0,   0,   0],\n",
       "       [ 76,   3,  22,  71, 172,   0,   0,   0,   0,   0,   0,   0,   0,\n",
       "          0,   0,   0,   0,   0,   0,   0,   0,   0,   0,   0,   0,   0,\n",
       "          0,   0,   0],\n",
       "       [ 15,  66,   3,  33,  16,   1,   4,   0,   0,   0,   0,   0,   0,\n",
       "          0,   0,   0,   0,   0,   0,   0,   0,   0,   0,   0,   0,   0,\n",
       "          0,   0,   0],\n",
       "       [  3,   1,  39,   9, 576,   0,   0,   0,   0,   0,   0,   0,   0,\n",
       "          0,   0,   0,   0,   0,   0,   0,   0,   0,   0,   0,   0,   0,\n",
       "          0,   0,   0],\n",
       "       [ 38,  40,  64, 292, 429,  18, 247,   0,   0,   0,   0,   0,   0,\n",
       "          0,   0,   0,   0,   0,   0,   0,   0,   0,   0,   0,   0,   0,\n",
       "          0,   0,   0],\n",
       "       [ 25,   3, 247, 346,   6,  42,   0,   0,   0,   0,   0,   0,   0,\n",
       "          0,   0,   0,   0,   0,   0,   0,   0,   0,   0,   0,   0,   0,\n",
       "          0,   0,   0],\n",
       "       [ 20,   5,  30,   1,   9, 347,   0,   0,   0,   0,   0,   0,   0,\n",
       "          0,   0,   0,   0,   0,   0,   0,   0,   0,   0,   0,   0,   0,\n",
       "          0,   0,   0]], dtype=int32)"
      ]
     },
     "execution_count": 60,
     "metadata": {
      "tags": []
     },
     "output_type": "execute_result"
    }
   ],
   "source": [
    "padded_doc = padding_doc(encoded_doc, max_length)\n",
    "padded_doc[:10]"
   ]
  },
  {
   "cell_type": "code",
   "execution_count": 61,
   "metadata": {
    "colab": {
     "base_uri": "https://localhost:8080/",
     "height": 34
    },
    "colab_type": "code",
    "executionInfo": {
     "elapsed": 981,
     "status": "ok",
     "timestamp": 1579330471928,
     "user": {
      "displayName": "krystal 1952",
      "photoUrl": "https://lh3.googleusercontent.com/a-/AAuE7mAprkGvSyW4usm3KAaX5gwfmf3YvtGa-JGK5QUv=s64",
      "userId": "14175600639714673624"
     },
     "user_tz": -330
    },
    "id": "I4Rvaky5PFT4",
    "outputId": "a7fe533d-7fcf-4a07-87be-05c4a1487069"
   },
   "outputs": [
    {
     "name": "stdout",
     "output_type": "stream",
     "text": [
      "Shape of padded docs =  (1451, 29)\n"
     ]
    }
   ],
   "source": [
    "print(\"Shape of padded docs = \",padded_doc.shape)"
   ]
  },
  {
   "cell_type": "markdown",
   "metadata": {
    "colab_type": "text",
    "id": "7uEVwxlGPFT7"
   },
   "source": [
    "#### Output Encoding"
   ]
  },
  {
   "cell_type": "code",
   "execution_count": 0,
   "metadata": {
    "colab": {},
    "colab_type": "code",
    "id": "f-ntqYYoPFT9"
   },
   "outputs": [],
   "source": [
    "# Obtnaing the unique token intents\n",
    "unique_intent = list(set(intent))"
   ]
  },
  {
   "cell_type": "code",
   "execution_count": 0,
   "metadata": {
    "colab": {},
    "colab_type": "code",
    "id": "mZKDADKyPFUB"
   },
   "outputs": [],
   "source": [
    "#tokenizer with filter changed (removing underscore{_} and dashs{-})\n",
    "output_tokenizer = create_tokenizer(unique_intent, filters = '!\"#$%&()*+,/:;<=>?@[\\]^`{|}~')"
   ]
  },
  {
   "cell_type": "code",
   "execution_count": 64,
   "metadata": {
    "colab": {
     "base_uri": "https://localhost:8080/",
     "height": 54
    },
    "colab_type": "code",
    "executionInfo": {
     "elapsed": 835,
     "status": "ok",
     "timestamp": 1579330475433,
     "user": {
      "displayName": "krystal 1952",
      "photoUrl": "https://lh3.googleusercontent.com/a-/AAuE7mAprkGvSyW4usm3KAaX5gwfmf3YvtGa-JGK5QUv=s64",
      "userId": "14175600639714673624"
     },
     "user_tz": -330
    },
    "id": "qAG81a0SPFUE",
    "outputId": "4da77163-d1de-45a9-88c9-14730333ddc9"
   },
   "outputs": [
    {
     "name": "stdout",
     "output_type": "stream",
     "text": [
      "{'who-is-pretty': 1, 'iit_-5-_startups': 2, 'british-chinese': 3, 'program_faredout': 4, 'bmw_price': 5, 'hungry': 6, 'test_drive': 7, 'flip-a-coin': 8, 'total_outlay_earmarked': 9, 'nextcarlaunch': 10, 'solutions_patented': 11, 'ismart': 12, 'download': 13, 'models-for-next-2-years': 14, 'what_is_your_name': 15, 'protection-plans': 16, 'in-how-many-cities-will-it-be-sold-in': 17, 'how-do-i-look': 18, 'bmw_chinese_brand': 19, 'competition-from-kia-seltos': 20, 'mentoring': 21, 'who_brand_ambd': 22, 'boring_tired': 23, 'battery-replace-cost': 24, 'doing': 25, 'compare-variants': 26, 'bmwfeature': 27, 'favorites': 28, 'say-something-funny': 29, 'single-charge': 30, 'bmw_buy': 31, 'angry': 32, 'where-are-you': 33, 'about': 34, 'bmwinternet': 35, 'brand_ambd_to_india': 36, 'likeness': 37, 'are-there-any-issues-in-the-bmw': 38, 'inconvenience': 39, 'fine': 40, 'chinesebrand': 41, 'waiting-period': 42, 'assured-buyback': 43, 'i-miss-you': 44, 'produced-or-assembled': 45, 'i-feel-sad': 46, 'off-road': 47, 'powertrain': 48, 'gender-questions': 49, 'download-test': 50, 'future_cars': 51, 'get-delivery': 52, 'are-you-hungry': 53, 'demand-from-diesel-variant': 54, 'manufacturing_plant': 55, 'lol': 56, 'who-made-you': 57, 'car-service': 58, 'access_to_openfiles': 59, 'you-are-awesome': 60, 'delivery': 61, 'bmw_book': 62, 'chinese-parts': 63, 'apple-carplay': 64, 'waitcompetitor': 65, 'if-i-change-my-preferred-booked-variant-or-color-choice': 66, 'home-charger': 67, 'battery-life': 68, 'how-is-your-car-different': 69, 'site-not-working': 70, 'if-i-want-to-book-bmw-through-showroom-walk-in': 71, 'tired-sleepy': 72, 'no-sense': 73, 'anyone-there': 74, 'shut-up': 75, 'contact': 76, 'standard-equipment': 77, 'appreciation': 78, 'more-info': 79, 'warranty': 80, 'bmwwhat': 81, 'on-road-price': 82, 'whats-the-range': 83, 'are-you-smart': 84, 'points': 85, 'exchange-policy': 86, 'bs_vi-version': 87, 'itsahumanthing': 88, 'event': 89, 'are-you-human': 90, 'nothing': 91, 'main_menu': 92, 'changemaker': 93, 'comments-about-recent-slowdown': 94, 'csr': 95, 'ev-warranty': 96, 'each_partner_contributing': 97, 'your-family': 98, 'competitor': 99, 'maximum_amount_-given_by_bmw': 100, 'careers': 101, 'bmw_launch': 102, 'how_old_are_you': 103, 'i-am-happy': 104, 'whoisboss': 105, 'return-policy': 106, 'doing-work': 107, 'sales-target': 108, 'applydealership': 109, 'brand_ambd_common': 110, 'components': 111, 'sponsorship': 112, 'bmwmanufacturing': 113, 'role_of_saic': 114, 'bookings-received': 115, 'about_bmwcc': 116, 'will-the-data-be-sent-to-china': 117, 'press-release': 118, 'you-are-fired': 119, 'road-side-protection': 120, 'reviewing': 121, 'bmw_fuel': 122, 'can-you-hear-me': 123, 'replace-battery': 124, 'do-you-love-me': 125, 'rule-the-world': 126, 'drive-her-back': 127, 'bmw_city': 128, 'dreams_fly_cooking': 129, 'bmw_specification': 130, 'meaning-of-life': 131, 'safety': 132, 'weight': 133, 'bmw-service-details': 134, 'maximum-demand': 135, 'comliment': 136, 'bmw_reopenings': 137, 'ev-safety': 138, 'user_details': 139, 'bmw_india': 140, 'ask-me-anything': 141, 'i-am-bored': 142, 'automatic-variant-of-bmw': 143, 'you-are-dumb': 144}\n"
     ]
    }
   ],
   "source": [
    "print(output_tokenizer.word_index)"
   ]
  },
  {
   "cell_type": "code",
   "execution_count": 0,
   "metadata": {
    "colab": {},
    "colab_type": "code",
    "id": "hrfCRag1PFUK"
   },
   "outputs": [],
   "source": [
    "encoded_output = output_tokenizer.texts_to_sequences(intent)"
   ]
  },
  {
   "cell_type": "code",
   "execution_count": 66,
   "metadata": {
    "colab": {
     "base_uri": "https://localhost:8080/",
     "height": 34
    },
    "colab_type": "code",
    "executionInfo": {
     "elapsed": 846,
     "status": "ok",
     "timestamp": 1579330475925,
     "user": {
      "displayName": "krystal 1952",
      "photoUrl": "https://lh3.googleusercontent.com/a-/AAuE7mAprkGvSyW4usm3KAaX5gwfmf3YvtGa-JGK5QUv=s64",
      "userId": "14175600639714673624"
     },
     "user_tz": -330
    },
    "id": "iOi56jRpPFUP",
    "outputId": "70127e14-4de8-4a2c-8f76-e364b9fd0df1"
   },
   "outputs": [
    {
     "name": "stdout",
     "output_type": "stream",
     "text": [
      "[[22], [51], [12], [122], [22], [5], [128], [110], [36], [62]]\n"
     ]
    }
   ],
   "source": [
    "print(encoded_output[:10])"
   ]
  },
  {
   "cell_type": "code",
   "execution_count": 0,
   "metadata": {
    "colab": {},
    "colab_type": "code",
    "id": "g-7GHNpmPFUT"
   },
   "outputs": [],
   "source": [
    "encoded_output = np.array(encoded_output).reshape(len(encoded_output), 1)"
   ]
  },
  {
   "cell_type": "code",
   "execution_count": 68,
   "metadata": {
    "colab": {
     "base_uri": "https://localhost:8080/",
     "height": 34
    },
    "colab_type": "code",
    "executionInfo": {
     "elapsed": 523,
     "status": "ok",
     "timestamp": 1579330477648,
     "user": {
      "displayName": "krystal 1952",
      "photoUrl": "https://lh3.googleusercontent.com/a-/AAuE7mAprkGvSyW4usm3KAaX5gwfmf3YvtGa-JGK5QUv=s64",
      "userId": "14175600639714673624"
     },
     "user_tz": -330
    },
    "id": "HFlYrz2iPFUW",
    "outputId": "f85c7e55-cafc-47af-d86d-33bbc889a384"
   },
   "outputs": [
    {
     "data": {
      "text/plain": [
       "(1451, 1)"
      ]
     },
     "execution_count": 68,
     "metadata": {
      "tags": []
     },
     "output_type": "execute_result"
    }
   ],
   "source": [
    "encoded_output.shape"
   ]
  },
  {
   "cell_type": "code",
   "execution_count": 0,
   "metadata": {
    "colab": {},
    "colab_type": "code",
    "id": "V78RdlfrPFUY"
   },
   "outputs": [],
   "source": [
    "def one_hot(encode):\n",
    "  o = OneHotEncoder(sparse = False)\n",
    "  return(o.fit_transform(encode))"
   ]
  },
  {
   "cell_type": "code",
   "execution_count": 0,
   "metadata": {
    "colab": {},
    "colab_type": "code",
    "id": "-0NfhX90PFUb"
   },
   "outputs": [],
   "source": [
    "output_one_hot = one_hot(encoded_output)"
   ]
  },
  {
   "cell_type": "code",
   "execution_count": 71,
   "metadata": {
    "colab": {
     "base_uri": "https://localhost:8080/",
     "height": 136
    },
    "colab_type": "code",
    "executionInfo": {
     "elapsed": 800,
     "status": "ok",
     "timestamp": 1579330492868,
     "user": {
      "displayName": "krystal 1952",
      "photoUrl": "https://lh3.googleusercontent.com/a-/AAuE7mAprkGvSyW4usm3KAaX5gwfmf3YvtGa-JGK5QUv=s64",
      "userId": "14175600639714673624"
     },
     "user_tz": -330
    },
    "id": "_sAtdGtqPFUg",
    "outputId": "424be86d-9010-4555-f7d2-e13412f14fee"
   },
   "outputs": [
    {
     "data": {
      "text/plain": [
       "array([[0., 0., 0., ..., 0., 0., 0.],\n",
       "       [0., 0., 0., ..., 0., 0., 0.],\n",
       "       [0., 0., 0., ..., 0., 0., 0.],\n",
       "       ...,\n",
       "       [0., 0., 0., ..., 0., 0., 0.],\n",
       "       [0., 0., 0., ..., 0., 0., 0.],\n",
       "       [0., 0., 0., ..., 0., 0., 0.]])"
      ]
     },
     "execution_count": 71,
     "metadata": {
      "tags": []
     },
     "output_type": "execute_result"
    }
   ],
   "source": [
    "output_one_hot"
   ]
  },
  {
   "cell_type": "code",
   "execution_count": 72,
   "metadata": {
    "colab": {
     "base_uri": "https://localhost:8080/",
     "height": 34
    },
    "colab_type": "code",
    "executionInfo": {
     "elapsed": 806,
     "status": "ok",
     "timestamp": 1579330499188,
     "user": {
      "displayName": "krystal 1952",
      "photoUrl": "https://lh3.googleusercontent.com/a-/AAuE7mAprkGvSyW4usm3KAaX5gwfmf3YvtGa-JGK5QUv=s64",
      "userId": "14175600639714673624"
     },
     "user_tz": -330
    },
    "id": "1597jKnjPFUj",
    "outputId": "e187adc6-e1cc-4fd0-8fc8-9ec9b2aef377"
   },
   "outputs": [
    {
     "data": {
      "text/plain": [
       "(1451, 144)"
      ]
     },
     "execution_count": 72,
     "metadata": {
      "tags": []
     },
     "output_type": "execute_result"
    }
   ],
   "source": [
    "output_one_hot.shape"
   ]
  },
  {
   "cell_type": "markdown",
   "metadata": {
    "colab_type": "text",
    "id": "9l0w3ANjPFUl"
   },
   "source": [
    "### Creating Train and Validation set"
   ]
  },
  {
   "cell_type": "code",
   "execution_count": 0,
   "metadata": {
    "colab": {},
    "colab_type": "code",
    "id": "nBRTpJTPPFUm"
   },
   "outputs": [],
   "source": [
    "train_X, val_X, train_Y, val_Y = train_test_split(padded_doc, output_one_hot, shuffle = True, test_size = 0.2)"
   ]
  },
  {
   "cell_type": "code",
   "execution_count": 74,
   "metadata": {
    "colab": {
     "base_uri": "https://localhost:8080/",
     "height": 51
    },
    "colab_type": "code",
    "executionInfo": {
     "elapsed": 1055,
     "status": "ok",
     "timestamp": 1579330509605,
     "user": {
      "displayName": "krystal 1952",
      "photoUrl": "https://lh3.googleusercontent.com/a-/AAuE7mAprkGvSyW4usm3KAaX5gwfmf3YvtGa-JGK5QUv=s64",
      "userId": "14175600639714673624"
     },
     "user_tz": -330
    },
    "id": "AnqkStUVPFUp",
    "outputId": "91f4c54f-44e5-48c5-bf23-9f661dab3773"
   },
   "outputs": [
    {
     "name": "stdout",
     "output_type": "stream",
     "text": [
      "Shape of train_X = (1160, 29) and train_Y = (1160, 144)\n",
      "Shape of val_X = (291, 29) and val_Y = (291, 144)\n"
     ]
    }
   ],
   "source": [
    "print(\"Shape of train_X = %s and train_Y = %s\" % (train_X.shape, train_Y.shape))\n",
    "print(\"Shape of val_X = %s and val_Y = %s\" % (val_X.shape, val_Y.shape))"
   ]
  },
  {
   "cell_type": "markdown",
   "metadata": {
    "colab_type": "text",
    "id": "Y6Tm9uYFcKYM"
   },
   "source": [
    "## Defining Model"
   ]
  },
  {
   "cell_type": "code",
   "execution_count": 0,
   "metadata": {
    "colab": {},
    "colab_type": "code",
    "id": "YNGyrqgnPFUr"
   },
   "outputs": [],
   "source": [
    "def create_model(vocab_size, max_length):\n",
    "  model = Sequential()\n",
    "  model.add(Embedding(vocab_size, 256, input_length = max_length, trainable = False))\n",
    "  model.add(Bidirectional(LSTM(256)))\n",
    "  model.add(Dense(164,activation = \"relu\"))\n",
    "  model.add(Dropout(0.6))\n",
    "  model.add(BatchNormalization())\n",
    "  model.add(Dense(144, activation = \"softmax\"))\n",
    "  return model\n",
    "  "
   ]
  },
  {
   "cell_type": "markdown",
   "metadata": {
    "colab_type": "text",
    "id": "DUDzT0hScQtJ"
   },
   "source": [
    "### Summary of the model "
   ]
  },
  {
   "cell_type": "code",
   "execution_count": 77,
   "metadata": {
    "colab": {
     "base_uri": "https://localhost:8080/",
     "height": 374
    },
    "colab_type": "code",
    "executionInfo": {
     "elapsed": 1431,
     "status": "ok",
     "timestamp": 1579330668950,
     "user": {
      "displayName": "krystal 1952",
      "photoUrl": "https://lh3.googleusercontent.com/a-/AAuE7mAprkGvSyW4usm3KAaX5gwfmf3YvtGa-JGK5QUv=s64",
      "userId": "14175600639714673624"
     },
     "user_tz": -330
    },
    "id": "ZQsR4ISPPFUx",
    "outputId": "1a3e20f4-38c2-4431-c571-ac23050bc23a"
   },
   "outputs": [
    {
     "name": "stdout",
     "output_type": "stream",
     "text": [
      "WARNING:tensorflow:Large dropout rate: 0.6 (>0.5). In TensorFlow 2.x, dropout() uses dropout rate instead of keep_prob. Please ensure that this is intended.\n",
      "Model: \"sequential_2\"\n",
      "_________________________________________________________________\n",
      "Layer (type)                 Output Shape              Param #   \n",
      "=================================================================\n",
      "embedding_2 (Embedding)      (None, 29, 256)           236800    \n",
      "_________________________________________________________________\n",
      "bidirectional_2 (Bidirection (None, 512)               1050624   \n",
      "_________________________________________________________________\n",
      "dense_3 (Dense)              (None, 164)               84132     \n",
      "_________________________________________________________________\n",
      "dropout_2 (Dropout)          (None, 164)               0         \n",
      "_________________________________________________________________\n",
      "batch_normalization_2 (Batch (None, 164)               656       \n",
      "_________________________________________________________________\n",
      "dense_4 (Dense)              (None, 144)               23760     \n",
      "=================================================================\n",
      "Total params: 1,395,972\n",
      "Trainable params: 1,158,844\n",
      "Non-trainable params: 237,128\n",
      "_________________________________________________________________\n"
     ]
    }
   ],
   "source": [
    "model = create_model(vocab_size, max_length)\n",
    "model.compile(loss = \"categorical_crossentropy\", optimizer = \"adam\", metrics = [\"accuracy\"])\n",
    "model.summary()"
   ]
  },
  {
   "cell_type": "markdown",
   "metadata": {
    "colab_type": "text",
    "id": "grehz7yca1Ng"
   },
   "source": [
    "#### As i have trained this model on the Colab using GPU. So you can skip this step and move forward by loading the model.h3 file"
   ]
  },
  {
   "cell_type": "code",
   "execution_count": 79,
   "metadata": {
    "colab": {
     "base_uri": "https://localhost:8080/",
     "height": 1000
    },
    "colab_type": "code",
    "executionInfo": {
     "elapsed": 416934,
     "status": "ok",
     "timestamp": 1579331149331,
     "user": {
      "displayName": "krystal 1952",
      "photoUrl": "https://lh3.googleusercontent.com/a-/AAuE7mAprkGvSyW4usm3KAaX5gwfmf3YvtGa-JGK5QUv=s64",
      "userId": "14175600639714673624"
     },
     "user_tz": -330
    },
    "id": "4Iu2E8ruPFU0",
    "outputId": "17383cda-8b35-4fa6-9edf-f555fb146477"
   },
   "outputs": [
    {
     "name": "stdout",
     "output_type": "stream",
     "text": [
      "Train on 1160 samples, validate on 291 samples\n",
      "Epoch 1/100\n",
      "1160/1160 [==============================] - 4s 4ms/step - loss: 4.1746 - acc: 0.1483 - val_loss: 4.1666 - val_acc: 0.1340\n",
      "\n",
      "Epoch 00001: val_loss improved from inf to 4.16660, saving model to model.h3\n",
      "Epoch 2/100\n",
      "1160/1160 [==============================] - 4s 4ms/step - loss: 3.9057 - acc: 0.1733 - val_loss: 3.9437 - val_acc: 0.1581\n",
      "\n",
      "Epoch 00002: val_loss improved from 4.16660 to 3.94373, saving model to model.h3\n",
      "Epoch 3/100\n",
      "1160/1160 [==============================] - 4s 4ms/step - loss: 3.6645 - acc: 0.2172 - val_loss: 3.6847 - val_acc: 0.2165\n",
      "\n",
      "Epoch 00003: val_loss improved from 3.94373 to 3.68466, saving model to model.h3\n",
      "Epoch 4/100\n",
      "1160/1160 [==============================] - 4s 4ms/step - loss: 3.3958 - acc: 0.2724 - val_loss: 3.4502 - val_acc: 0.3402\n",
      "\n",
      "Epoch 00004: val_loss improved from 3.68466 to 3.45017, saving model to model.h3\n",
      "Epoch 5/100\n",
      "1160/1160 [==============================] - 4s 4ms/step - loss: 3.0785 - acc: 0.3250 - val_loss: 3.1202 - val_acc: 0.3780\n",
      "\n",
      "Epoch 00005: val_loss improved from 3.45017 to 3.12018, saving model to model.h3\n",
      "Epoch 6/100\n",
      "1160/1160 [==============================] - 4s 3ms/step - loss: 2.8008 - acc: 0.3966 - val_loss: 2.8876 - val_acc: 0.4089\n",
      "\n",
      "Epoch 00006: val_loss improved from 3.12018 to 2.88756, saving model to model.h3\n",
      "Epoch 7/100\n",
      "1160/1160 [==============================] - 4s 4ms/step - loss: 2.5294 - acc: 0.4491 - val_loss: 2.7997 - val_acc: 0.4261\n",
      "\n",
      "Epoch 00007: val_loss improved from 2.88756 to 2.79966, saving model to model.h3\n",
      "Epoch 8/100\n",
      "1160/1160 [==============================] - 4s 4ms/step - loss: 2.3135 - acc: 0.5069 - val_loss: 2.5514 - val_acc: 0.4674\n",
      "\n",
      "Epoch 00008: val_loss improved from 2.79966 to 2.55145, saving model to model.h3\n",
      "Epoch 9/100\n",
      "1160/1160 [==============================] - 4s 3ms/step - loss: 2.1320 - acc: 0.5422 - val_loss: 2.4739 - val_acc: 0.5292\n",
      "\n",
      "Epoch 00009: val_loss improved from 2.55145 to 2.47394, saving model to model.h3\n",
      "Epoch 10/100\n",
      "1160/1160 [==============================] - 4s 4ms/step - loss: 1.8982 - acc: 0.6009 - val_loss: 2.2203 - val_acc: 0.5326\n",
      "\n",
      "Epoch 00010: val_loss improved from 2.47394 to 2.22033, saving model to model.h3\n",
      "Epoch 11/100\n",
      "1160/1160 [==============================] - 4s 4ms/step - loss: 1.7339 - acc: 0.6379 - val_loss: 2.2271 - val_acc: 0.5395\n",
      "\n",
      "Epoch 00011: val_loss did not improve from 2.22033\n",
      "Epoch 12/100\n",
      "1160/1160 [==============================] - 4s 4ms/step - loss: 1.5976 - acc: 0.6534 - val_loss: 2.0294 - val_acc: 0.5670\n",
      "\n",
      "Epoch 00012: val_loss improved from 2.22033 to 2.02942, saving model to model.h3\n",
      "Epoch 13/100\n",
      "1160/1160 [==============================] - 4s 4ms/step - loss: 1.4005 - acc: 0.7069 - val_loss: 1.9311 - val_acc: 0.5670\n",
      "\n",
      "Epoch 00013: val_loss improved from 2.02942 to 1.93113, saving model to model.h3\n",
      "Epoch 14/100\n",
      "1160/1160 [==============================] - 4s 4ms/step - loss: 1.2990 - acc: 0.7379 - val_loss: 1.8303 - val_acc: 0.6014\n",
      "\n",
      "Epoch 00014: val_loss improved from 1.93113 to 1.83033, saving model to model.h3\n",
      "Epoch 15/100\n",
      "1160/1160 [==============================] - 4s 4ms/step - loss: 1.2091 - acc: 0.7517 - val_loss: 1.7249 - val_acc: 0.6289\n",
      "\n",
      "Epoch 00015: val_loss improved from 1.83033 to 1.72493, saving model to model.h3\n",
      "Epoch 16/100\n",
      "1160/1160 [==============================] - 4s 3ms/step - loss: 1.0839 - acc: 0.7690 - val_loss: 1.7367 - val_acc: 0.6151\n",
      "\n",
      "Epoch 00016: val_loss did not improve from 1.72493\n",
      "Epoch 17/100\n",
      "1160/1160 [==============================] - 4s 4ms/step - loss: 1.0133 - acc: 0.7974 - val_loss: 1.5393 - val_acc: 0.6667\n",
      "\n",
      "Epoch 00017: val_loss improved from 1.72493 to 1.53932, saving model to model.h3\n",
      "Epoch 18/100\n",
      "1160/1160 [==============================] - 4s 4ms/step - loss: 0.9561 - acc: 0.8000 - val_loss: 1.5017 - val_acc: 0.6804\n",
      "\n",
      "Epoch 00018: val_loss improved from 1.53932 to 1.50171, saving model to model.h3\n",
      "Epoch 19/100\n",
      "1160/1160 [==============================] - 4s 4ms/step - loss: 0.8364 - acc: 0.8233 - val_loss: 1.4681 - val_acc: 0.6770\n",
      "\n",
      "Epoch 00019: val_loss improved from 1.50171 to 1.46814, saving model to model.h3\n",
      "Epoch 20/100\n",
      "1160/1160 [==============================] - 4s 4ms/step - loss: 0.7676 - acc: 0.8560 - val_loss: 1.4628 - val_acc: 0.6976\n",
      "\n",
      "Epoch 00020: val_loss improved from 1.46814 to 1.46282, saving model to model.h3\n",
      "Epoch 21/100\n",
      "1160/1160 [==============================] - 4s 3ms/step - loss: 0.7179 - acc: 0.8560 - val_loss: 1.4547 - val_acc: 0.6735\n",
      "\n",
      "Epoch 00021: val_loss improved from 1.46282 to 1.45472, saving model to model.h3\n",
      "Epoch 22/100\n",
      "1160/1160 [==============================] - 4s 4ms/step - loss: 0.6890 - acc: 0.8621 - val_loss: 1.3311 - val_acc: 0.7182\n",
      "\n",
      "Epoch 00022: val_loss improved from 1.45472 to 1.33114, saving model to model.h3\n",
      "Epoch 23/100\n",
      "1160/1160 [==============================] - 4s 4ms/step - loss: 0.6224 - acc: 0.8819 - val_loss: 1.3473 - val_acc: 0.7079\n",
      "\n",
      "Epoch 00023: val_loss did not improve from 1.33114\n",
      "Epoch 24/100\n",
      "1160/1160 [==============================] - 4s 4ms/step - loss: 0.5677 - acc: 0.8750 - val_loss: 1.3337 - val_acc: 0.7148\n",
      "\n",
      "Epoch 00024: val_loss did not improve from 1.33114\n",
      "Epoch 25/100\n",
      "1160/1160 [==============================] - 4s 4ms/step - loss: 0.5395 - acc: 0.8940 - val_loss: 1.3672 - val_acc: 0.7182\n",
      "\n",
      "Epoch 00025: val_loss did not improve from 1.33114\n",
      "Epoch 26/100\n",
      "1160/1160 [==============================] - 4s 3ms/step - loss: 0.4955 - acc: 0.8966 - val_loss: 1.3208 - val_acc: 0.7182\n",
      "\n",
      "Epoch 00026: val_loss improved from 1.33114 to 1.32082, saving model to model.h3\n",
      "Epoch 27/100\n",
      "1160/1160 [==============================] - 4s 3ms/step - loss: 0.4467 - acc: 0.9078 - val_loss: 1.2588 - val_acc: 0.7526\n",
      "\n",
      "Epoch 00027: val_loss improved from 1.32082 to 1.25882, saving model to model.h3\n",
      "Epoch 28/100\n",
      "1160/1160 [==============================] - 4s 3ms/step - loss: 0.4459 - acc: 0.9155 - val_loss: 1.2301 - val_acc: 0.7457\n",
      "\n",
      "Epoch 00028: val_loss improved from 1.25882 to 1.23008, saving model to model.h3\n",
      "Epoch 29/100\n",
      "1160/1160 [==============================] - 5s 4ms/step - loss: 0.3854 - acc: 0.9362 - val_loss: 1.2150 - val_acc: 0.7388\n",
      "\n",
      "Epoch 00029: val_loss improved from 1.23008 to 1.21497, saving model to model.h3\n",
      "Epoch 30/100\n",
      "1160/1160 [==============================] - 4s 4ms/step - loss: 0.3565 - acc: 0.9353 - val_loss: 1.1877 - val_acc: 0.7526\n",
      "\n",
      "Epoch 00030: val_loss improved from 1.21497 to 1.18774, saving model to model.h3\n",
      "Epoch 31/100\n",
      "1160/1160 [==============================] - 4s 3ms/step - loss: 0.3401 - acc: 0.9328 - val_loss: 1.2403 - val_acc: 0.7285\n",
      "\n",
      "Epoch 00031: val_loss did not improve from 1.18774\n",
      "Epoch 32/100\n",
      "1160/1160 [==============================] - 4s 3ms/step - loss: 0.3210 - acc: 0.9353 - val_loss: 1.1897 - val_acc: 0.7423\n",
      "\n",
      "Epoch 00032: val_loss did not improve from 1.18774\n",
      "Epoch 33/100\n",
      "1160/1160 [==============================] - 4s 4ms/step - loss: 0.3074 - acc: 0.9474 - val_loss: 1.1998 - val_acc: 0.7320\n",
      "\n",
      "Epoch 00033: val_loss did not improve from 1.18774\n",
      "Epoch 34/100\n",
      "1160/1160 [==============================] - 4s 4ms/step - loss: 0.2989 - acc: 0.9457 - val_loss: 1.2346 - val_acc: 0.7216\n",
      "\n",
      "Epoch 00034: val_loss did not improve from 1.18774\n",
      "Epoch 35/100\n",
      "1160/1160 [==============================] - 4s 3ms/step - loss: 0.2705 - acc: 0.9500 - val_loss: 1.2190 - val_acc: 0.7320\n",
      "\n",
      "Epoch 00035: val_loss did not improve from 1.18774\n",
      "Epoch 36/100\n",
      "1160/1160 [==============================] - 4s 4ms/step - loss: 0.2350 - acc: 0.9638 - val_loss: 1.1682 - val_acc: 0.7526\n",
      "\n",
      "Epoch 00036: val_loss improved from 1.18774 to 1.16819, saving model to model.h3\n",
      "Epoch 37/100\n",
      "1160/1160 [==============================] - 4s 4ms/step - loss: 0.2646 - acc: 0.9517 - val_loss: 1.2170 - val_acc: 0.7354\n",
      "\n",
      "Epoch 00037: val_loss did not improve from 1.16819\n",
      "Epoch 38/100\n",
      "1160/1160 [==============================] - 4s 4ms/step - loss: 0.2518 - acc: 0.9603 - val_loss: 1.1765 - val_acc: 0.7457\n",
      "\n",
      "Epoch 00038: val_loss did not improve from 1.16819\n",
      "Epoch 39/100\n",
      "1160/1160 [==============================] - 4s 3ms/step - loss: 0.2644 - acc: 0.9491 - val_loss: 1.3498 - val_acc: 0.7354\n",
      "\n",
      "Epoch 00039: val_loss did not improve from 1.16819\n",
      "Epoch 40/100\n",
      "1160/1160 [==============================] - 4s 4ms/step - loss: 0.2528 - acc: 0.9500 - val_loss: 1.2096 - val_acc: 0.7388\n",
      "\n",
      "Epoch 00040: val_loss did not improve from 1.16819\n",
      "Epoch 41/100\n",
      "1160/1160 [==============================] - 4s 3ms/step - loss: 0.2334 - acc: 0.9517 - val_loss: 1.1611 - val_acc: 0.7457\n",
      "\n",
      "Epoch 00041: val_loss improved from 1.16819 to 1.16109, saving model to model.h3\n",
      "Epoch 42/100\n",
      "1160/1160 [==============================] - 4s 3ms/step - loss: 0.2133 - acc: 0.9690 - val_loss: 1.1829 - val_acc: 0.7629\n",
      "\n",
      "Epoch 00042: val_loss did not improve from 1.16109\n",
      "Epoch 43/100\n",
      "1160/1160 [==============================] - 4s 4ms/step - loss: 0.2087 - acc: 0.9647 - val_loss: 1.2587 - val_acc: 0.7216\n",
      "\n",
      "Epoch 00043: val_loss did not improve from 1.16109\n",
      "Epoch 44/100\n",
      "1160/1160 [==============================] - 4s 4ms/step - loss: 0.1759 - acc: 0.9724 - val_loss: 1.1905 - val_acc: 0.7388\n",
      "\n",
      "Epoch 00044: val_loss did not improve from 1.16109\n",
      "Epoch 45/100\n",
      "1160/1160 [==============================] - 4s 4ms/step - loss: 0.1549 - acc: 0.9759 - val_loss: 1.1971 - val_acc: 0.7595\n",
      "\n",
      "Epoch 00045: val_loss did not improve from 1.16109\n",
      "Epoch 46/100\n",
      "1160/1160 [==============================] - 4s 4ms/step - loss: 0.1461 - acc: 0.9793 - val_loss: 1.1988 - val_acc: 0.7388\n",
      "\n",
      "Epoch 00046: val_loss did not improve from 1.16109\n",
      "Epoch 47/100\n",
      "1160/1160 [==============================] - 4s 4ms/step - loss: 0.1652 - acc: 0.9741 - val_loss: 1.1607 - val_acc: 0.7595\n",
      "\n",
      "Epoch 00047: val_loss improved from 1.16109 to 1.16073, saving model to model.h3\n",
      "Epoch 48/100\n",
      "1160/1160 [==============================] - 4s 4ms/step - loss: 0.1579 - acc: 0.9767 - val_loss: 1.2112 - val_acc: 0.7560\n",
      "\n",
      "Epoch 00048: val_loss did not improve from 1.16073\n",
      "Epoch 49/100\n",
      "1160/1160 [==============================] - 4s 3ms/step - loss: 0.1512 - acc: 0.9741 - val_loss: 1.2254 - val_acc: 0.7595\n",
      "\n",
      "Epoch 00049: val_loss did not improve from 1.16073\n",
      "Epoch 50/100\n",
      "1160/1160 [==============================] - 4s 4ms/step - loss: 0.1554 - acc: 0.9733 - val_loss: 1.2033 - val_acc: 0.7388\n",
      "\n",
      "Epoch 00050: val_loss did not improve from 1.16073\n",
      "Epoch 51/100\n",
      "1160/1160 [==============================] - 4s 4ms/step - loss: 0.1258 - acc: 0.9810 - val_loss: 1.2178 - val_acc: 0.7423\n",
      "\n",
      "Epoch 00051: val_loss did not improve from 1.16073\n",
      "Epoch 52/100\n",
      "1160/1160 [==============================] - 4s 4ms/step - loss: 0.1322 - acc: 0.9741 - val_loss: 1.1515 - val_acc: 0.7595\n",
      "\n",
      "Epoch 00052: val_loss improved from 1.16073 to 1.15151, saving model to model.h3\n",
      "Epoch 53/100\n",
      "1160/1160 [==============================] - 4s 4ms/step - loss: 0.1185 - acc: 0.9810 - val_loss: 1.1320 - val_acc: 0.7595\n",
      "\n",
      "Epoch 00053: val_loss improved from 1.15151 to 1.13200, saving model to model.h3\n",
      "Epoch 54/100\n",
      "1160/1160 [==============================] - 4s 4ms/step - loss: 0.1133 - acc: 0.9828 - val_loss: 1.1788 - val_acc: 0.7560\n",
      "\n",
      "Epoch 00054: val_loss did not improve from 1.13200\n",
      "Epoch 55/100\n",
      "1160/1160 [==============================] - 4s 4ms/step - loss: 0.1410 - acc: 0.9759 - val_loss: 1.3166 - val_acc: 0.7457\n",
      "\n",
      "Epoch 00055: val_loss did not improve from 1.13200\n",
      "Epoch 56/100\n",
      "1160/1160 [==============================] - 4s 4ms/step - loss: 0.1333 - acc: 0.9759 - val_loss: 1.2160 - val_acc: 0.7457\n",
      "\n",
      "Epoch 00056: val_loss did not improve from 1.13200\n",
      "Epoch 57/100\n",
      "1160/1160 [==============================] - 4s 3ms/step - loss: 0.1938 - acc: 0.9517 - val_loss: 1.2912 - val_acc: 0.7457\n",
      "\n",
      "Epoch 00057: val_loss did not improve from 1.13200\n",
      "Epoch 58/100\n",
      "1160/1160 [==============================] - 4s 4ms/step - loss: 0.1720 - acc: 0.9638 - val_loss: 1.2274 - val_acc: 0.7457\n",
      "\n",
      "Epoch 00058: val_loss did not improve from 1.13200\n",
      "Epoch 59/100\n",
      "1160/1160 [==============================] - 4s 4ms/step - loss: 0.1561 - acc: 0.9672 - val_loss: 1.2071 - val_acc: 0.7629\n",
      "\n",
      "Epoch 00059: val_loss did not improve from 1.13200\n",
      "Epoch 60/100\n",
      "1160/1160 [==============================] - 4s 3ms/step - loss: 0.1134 - acc: 0.9836 - val_loss: 1.2367 - val_acc: 0.7354\n",
      "\n",
      "Epoch 00060: val_loss did not improve from 1.13200\n",
      "Epoch 61/100\n",
      "1160/1160 [==============================] - 4s 4ms/step - loss: 0.1074 - acc: 0.9836 - val_loss: 1.2363 - val_acc: 0.7560\n",
      "\n",
      "Epoch 00061: val_loss did not improve from 1.13200\n",
      "Epoch 62/100\n",
      "1160/1160 [==============================] - 4s 4ms/step - loss: 0.1509 - acc: 0.9655 - val_loss: 1.2787 - val_acc: 0.7320\n",
      "\n",
      "Epoch 00062: val_loss did not improve from 1.13200\n",
      "Epoch 63/100\n",
      "1160/1160 [==============================] - 4s 3ms/step - loss: 0.1285 - acc: 0.9802 - val_loss: 1.2328 - val_acc: 0.7560\n",
      "\n",
      "Epoch 00063: val_loss did not improve from 1.13200\n",
      "Epoch 64/100\n",
      "1160/1160 [==============================] - 4s 3ms/step - loss: 0.0975 - acc: 0.9802 - val_loss: 1.2311 - val_acc: 0.7663\n",
      "\n",
      "Epoch 00064: val_loss did not improve from 1.13200\n",
      "Epoch 65/100\n",
      "1160/1160 [==============================] - 4s 4ms/step - loss: 0.1113 - acc: 0.9733 - val_loss: 1.1933 - val_acc: 0.7491\n",
      "\n",
      "Epoch 00065: val_loss did not improve from 1.13200\n",
      "Epoch 66/100\n",
      "1160/1160 [==============================] - 4s 4ms/step - loss: 0.1238 - acc: 0.9741 - val_loss: 1.1802 - val_acc: 0.7526\n",
      "\n",
      "Epoch 00066: val_loss did not improve from 1.13200\n",
      "Epoch 67/100\n",
      "1160/1160 [==============================] - 4s 4ms/step - loss: 0.1205 - acc: 0.9716 - val_loss: 1.2657 - val_acc: 0.7491\n",
      "\n",
      "Epoch 00067: val_loss did not improve from 1.13200\n",
      "Epoch 68/100\n",
      "1160/1160 [==============================] - 4s 4ms/step - loss: 0.1183 - acc: 0.9793 - val_loss: 1.3392 - val_acc: 0.7148\n",
      "\n",
      "Epoch 00068: val_loss did not improve from 1.13200\n",
      "Epoch 69/100\n",
      "1160/1160 [==============================] - 4s 3ms/step - loss: 0.1024 - acc: 0.9776 - val_loss: 1.2946 - val_acc: 0.7388\n",
      "\n",
      "Epoch 00069: val_loss did not improve from 1.13200\n",
      "Epoch 70/100\n",
      "1160/1160 [==============================] - 4s 4ms/step - loss: 0.1004 - acc: 0.9810 - val_loss: 1.3386 - val_acc: 0.7388\n",
      "\n",
      "Epoch 00070: val_loss did not improve from 1.13200\n",
      "Epoch 71/100\n",
      "1160/1160 [==============================] - 4s 4ms/step - loss: 0.1105 - acc: 0.9741 - val_loss: 1.4109 - val_acc: 0.7182\n",
      "\n",
      "Epoch 00071: val_loss did not improve from 1.13200\n",
      "Epoch 72/100\n",
      "1160/1160 [==============================] - 4s 3ms/step - loss: 0.0960 - acc: 0.9845 - val_loss: 1.2938 - val_acc: 0.7457\n",
      "\n",
      "Epoch 00072: val_loss did not improve from 1.13200\n",
      "Epoch 73/100\n",
      "1160/1160 [==============================] - 4s 4ms/step - loss: 0.1084 - acc: 0.9776 - val_loss: 1.2605 - val_acc: 0.7457\n",
      "\n",
      "Epoch 00073: val_loss did not improve from 1.13200\n",
      "Epoch 74/100\n",
      "1160/1160 [==============================] - 4s 4ms/step - loss: 0.0939 - acc: 0.9767 - val_loss: 1.3506 - val_acc: 0.7251\n",
      "\n",
      "Epoch 00074: val_loss did not improve from 1.13200\n",
      "Epoch 75/100\n",
      "1160/1160 [==============================] - 4s 4ms/step - loss: 0.0925 - acc: 0.9802 - val_loss: 1.3507 - val_acc: 0.7216\n",
      "\n",
      "Epoch 00075: val_loss did not improve from 1.13200\n",
      "Epoch 76/100\n",
      "1160/1160 [==============================] - 4s 4ms/step - loss: 0.0683 - acc: 0.9897 - val_loss: 1.2998 - val_acc: 0.7285\n",
      "\n",
      "Epoch 00076: val_loss did not improve from 1.13200\n",
      "Epoch 77/100\n",
      "1160/1160 [==============================] - 4s 3ms/step - loss: 0.0625 - acc: 0.9914 - val_loss: 1.3042 - val_acc: 0.7491\n",
      "\n",
      "Epoch 00077: val_loss did not improve from 1.13200\n",
      "Epoch 78/100\n",
      "1160/1160 [==============================] - 4s 3ms/step - loss: 0.0813 - acc: 0.9819 - val_loss: 1.4142 - val_acc: 0.7216\n",
      "\n",
      "Epoch 00078: val_loss did not improve from 1.13200\n",
      "Epoch 79/100\n",
      "1160/1160 [==============================] - 4s 4ms/step - loss: 0.0778 - acc: 0.9853 - val_loss: 1.2581 - val_acc: 0.7526\n",
      "\n",
      "Epoch 00079: val_loss did not improve from 1.13200\n",
      "Epoch 80/100\n",
      "1160/1160 [==============================] - 4s 4ms/step - loss: 0.0604 - acc: 0.9897 - val_loss: 1.3622 - val_acc: 0.7423\n",
      "\n",
      "Epoch 00080: val_loss did not improve from 1.13200\n",
      "Epoch 81/100\n",
      "1160/1160 [==============================] - 4s 4ms/step - loss: 0.0739 - acc: 0.9828 - val_loss: 1.3016 - val_acc: 0.7526\n",
      "\n",
      "Epoch 00081: val_loss did not improve from 1.13200\n",
      "Epoch 82/100\n",
      "1160/1160 [==============================] - 4s 4ms/step - loss: 0.0850 - acc: 0.9819 - val_loss: 1.3999 - val_acc: 0.7388\n",
      "\n",
      "Epoch 00082: val_loss did not improve from 1.13200\n",
      "Epoch 83/100\n",
      "1160/1160 [==============================] - 4s 4ms/step - loss: 0.1115 - acc: 0.9759 - val_loss: 1.3453 - val_acc: 0.7388\n",
      "\n",
      "Epoch 00083: val_loss did not improve from 1.13200\n",
      "Epoch 84/100\n",
      "1160/1160 [==============================] - 4s 4ms/step - loss: 0.1117 - acc: 0.9759 - val_loss: 1.3264 - val_acc: 0.7491\n",
      "\n",
      "Epoch 00084: val_loss did not improve from 1.13200\n",
      "Epoch 85/100\n",
      "1160/1160 [==============================] - 4s 4ms/step - loss: 0.1575 - acc: 0.9638 - val_loss: 1.4303 - val_acc: 0.7182\n",
      "\n",
      "Epoch 00085: val_loss did not improve from 1.13200\n",
      "Epoch 86/100\n",
      "1160/1160 [==============================] - 4s 3ms/step - loss: 0.2634 - acc: 0.9310 - val_loss: 1.6648 - val_acc: 0.7045\n",
      "\n",
      "Epoch 00086: val_loss did not improve from 1.13200\n",
      "Epoch 87/100\n",
      "1160/1160 [==============================] - 4s 4ms/step - loss: 0.2934 - acc: 0.9259 - val_loss: 1.4931 - val_acc: 0.7354\n",
      "\n",
      "Epoch 00087: val_loss did not improve from 1.13200\n",
      "Epoch 88/100\n",
      "1160/1160 [==============================] - 4s 4ms/step - loss: 0.1643 - acc: 0.9552 - val_loss: 1.3608 - val_acc: 0.7285\n",
      "\n",
      "Epoch 00088: val_loss did not improve from 1.13200\n",
      "Epoch 89/100\n",
      "1160/1160 [==============================] - 4s 4ms/step - loss: 0.1362 - acc: 0.9621 - val_loss: 1.4300 - val_acc: 0.7388\n",
      "\n",
      "Epoch 00089: val_loss did not improve from 1.13200\n",
      "Epoch 90/100\n",
      "1160/1160 [==============================] - 4s 3ms/step - loss: 0.1180 - acc: 0.9741 - val_loss: 1.3599 - val_acc: 0.7354\n",
      "\n",
      "Epoch 00090: val_loss did not improve from 1.13200\n",
      "Epoch 91/100\n",
      "1160/1160 [==============================] - 4s 3ms/step - loss: 0.0934 - acc: 0.9750 - val_loss: 1.3100 - val_acc: 0.7423\n",
      "\n",
      "Epoch 00091: val_loss did not improve from 1.13200\n",
      "Epoch 92/100\n",
      "1160/1160 [==============================] - 4s 4ms/step - loss: 0.0853 - acc: 0.9845 - val_loss: 1.3226 - val_acc: 0.7491\n",
      "\n",
      "Epoch 00092: val_loss did not improve from 1.13200\n",
      "Epoch 93/100\n",
      "1160/1160 [==============================] - 4s 4ms/step - loss: 0.0801 - acc: 0.9819 - val_loss: 1.2866 - val_acc: 0.7423\n",
      "\n",
      "Epoch 00093: val_loss did not improve from 1.13200\n",
      "Epoch 94/100\n",
      "1160/1160 [==============================] - 4s 4ms/step - loss: 0.0806 - acc: 0.9810 - val_loss: 1.2962 - val_acc: 0.7457\n",
      "\n",
      "Epoch 00094: val_loss did not improve from 1.13200\n",
      "Epoch 95/100\n",
      "1160/1160 [==============================] - 4s 4ms/step - loss: 0.0700 - acc: 0.9836 - val_loss: 1.3632 - val_acc: 0.7388\n",
      "\n",
      "Epoch 00095: val_loss did not improve from 1.13200\n",
      "Epoch 96/100\n",
      "1160/1160 [==============================] - 4s 4ms/step - loss: 0.0528 - acc: 0.9914 - val_loss: 1.3934 - val_acc: 0.7423\n",
      "\n",
      "Epoch 00096: val_loss did not improve from 1.13200\n",
      "Epoch 97/100\n",
      "1160/1160 [==============================] - 4s 3ms/step - loss: 0.0450 - acc: 0.9940 - val_loss: 1.3327 - val_acc: 0.7526\n",
      "\n",
      "Epoch 00097: val_loss did not improve from 1.13200\n",
      "Epoch 98/100\n",
      "1160/1160 [==============================] - 4s 3ms/step - loss: 0.0614 - acc: 0.9845 - val_loss: 1.3785 - val_acc: 0.7388\n",
      "\n",
      "Epoch 00098: val_loss did not improve from 1.13200\n",
      "Epoch 99/100\n",
      "1160/1160 [==============================] - 4s 4ms/step - loss: 0.0595 - acc: 0.9871 - val_loss: 1.3597 - val_acc: 0.7526\n",
      "\n",
      "Epoch 00099: val_loss did not improve from 1.13200\n",
      "Epoch 100/100\n",
      "1160/1160 [==============================] - 4s 3ms/step - loss: 0.0721 - acc: 0.9853 - val_loss: 1.2847 - val_acc: 0.7526\n",
      "\n",
      "Epoch 00100: val_loss did not improve from 1.13200\n"
     ]
    }
   ],
   "source": [
    "filename = 'model.h3'\n",
    "checkpoint = ModelCheckpoint(filename, monitor='val_loss', verbose=1, save_best_only=True, mode='min')\n",
    "\n",
    "hist = model.fit(train_X, train_Y, epochs = 100, batch_size = 32, validation_data=(val_X, val_Y), callbacks = [checkpoint])"
   ]
  },
  {
   "cell_type": "markdown",
   "metadata": {
    "colab_type": "text",
    "id": "eNXTIwymdCtc"
   },
   "source": [
    "#### Plot for **Training and validation loss**"
   ]
  },
  {
   "cell_type": "code",
   "execution_count": 80,
   "metadata": {
    "colab": {
     "base_uri": "https://localhost:8080/",
     "height": 295
    },
    "colab_type": "code",
    "executionInfo": {
     "elapsed": 1033,
     "status": "ok",
     "timestamp": 1579331155816,
     "user": {
      "displayName": "krystal 1952",
      "photoUrl": "https://lh3.googleusercontent.com/a-/AAuE7mAprkGvSyW4usm3KAaX5gwfmf3YvtGa-JGK5QUv=s64",
      "userId": "14175600639714673624"
     },
     "user_tz": -330
    },
    "id": "RGDs2mMvPFU2",
    "outputId": "c45d22a9-024a-402f-8e22-766538e72d6d"
   },
   "outputs": [
    {
     "data": {
      "image/png": "[encoded data removed]",
      "text/plain": [
       "<Figure size 432x288 with 1 Axes>"
      ]
     },
     "metadata": {
      "tags": []
     },
     "output_type": "display_data"
    }
   ],
   "source": [
    "\n",
    "loss = hist.history['loss']\n",
    "val_loss = hist.history['val_loss']\n",
    "epochs = range(1, len(loss) + 1)\n",
    "plt.plot(epochs, loss, 'y', label='Training loss')\n",
    "plt.plot(epochs, val_loss, 'r', label='Validation loss')\n",
    "plt.title('Training and validation loss')\n",
    "plt.xlabel('Epochs')\n",
    "plt.ylabel('Loss')\n",
    "plt.legend()\n",
    "plt.show()"
   ]
  },
  {
   "cell_type": "markdown",
   "metadata": {
    "colab_type": "text",
    "id": "XFeqqpB6dOLJ"
   },
   "source": [
    "#### Plot for **Training and validation accuracy**"
   ]
  },
  {
   "cell_type": "code",
   "execution_count": 81,
   "metadata": {
    "colab": {
     "base_uri": "https://localhost:8080/",
     "height": 295
    },
    "colab_type": "code",
    "executionInfo": {
     "elapsed": 1481,
     "status": "ok",
     "timestamp": 1579331163938,
     "user": {
      "displayName": "krystal 1952",
      "photoUrl": "https://lh3.googleusercontent.com/a-/AAuE7mAprkGvSyW4usm3KAaX5gwfmf3YvtGa-JGK5QUv=s64",
      "userId": "14175600639714673624"
     },
     "user_tz": -330
    },
    "id": "ONRuhmFUPFU6",
    "outputId": "541fbdca-2c02-4255-daa9-a8846c0ef701"
   },
   "outputs": [
    {
     "data": {
      "image/png": "[encoded data removed]",
      "text/plain": [
       "<Figure size 432x288 with 1 Axes>"
      ]
     },
     "metadata": {
      "tags": []
     },
     "output_type": "display_data"
    }
   ],
   "source": [
    "acc = hist.history['acc']\n",
    "val_acc = hist.history['val_acc']\n",
    "plt.plot(epochs, acc, 'y', label='Training acc')\n",
    "plt.plot(epochs, val_acc, 'r', label='Validation acc')\n",
    "plt.title('Training and validation accuracy')\n",
    "plt.xlabel('Epochs')\n",
    "plt.ylabel('Accuracy')\n",
    "plt.legend()\n",
    "plt.show()"
   ]
  },
  {
   "cell_type": "markdown",
   "metadata": {
    "colab_type": "text",
    "id": "DSSrdyhWdSus"
   },
   "source": [
    "### Evaulating the model"
   ]
  },
  {
   "cell_type": "code",
   "execution_count": 82,
   "metadata": {
    "colab": {
     "base_uri": "https://localhost:8080/",
     "height": 51
    },
    "colab_type": "code",
    "executionInfo": {
     "elapsed": 1120,
     "status": "ok",
     "timestamp": 1579331176957,
     "user": {
      "displayName": "krystal 1952",
      "photoUrl": "https://lh3.googleusercontent.com/a-/AAuE7mAprkGvSyW4usm3KAaX5gwfmf3YvtGa-JGK5QUv=s64",
      "userId": "14175600639714673624"
     },
     "user_tz": -330
    },
    "id": "ljN_yfI90bv0",
    "outputId": "360a41c1-8451-46cb-bbd7-0c7ba802169e"
   },
   "outputs": [
    {
     "name": "stdout",
     "output_type": "stream",
     "text": [
      "acc: 75.26%\n",
      "75.26% (+/- 0.00%)\n"
     ]
    }
   ],
   "source": [
    "cvscores = []\n",
    "scores = model.evaluate(val_X, val_Y, verbose=0)\n",
    "print(\"%s: %.2f%%\" % (model.metrics_names[1], scores[1]*100))\n",
    "cvscores.append(scores[1] * 100)\n",
    "print(\"%.2f%% (+/- %.2f%%)\" % (np.mean(cvscores), np.std(cvscores)))"
   ]
  },
  {
   "cell_type": "markdown",
   "metadata": {
    "colab_type": "text",
    "id": "X6-CdBeYdxZ0"
   },
   "source": [
    " ### Loading the trained model "
   ]
  },
  {
   "cell_type": "code",
   "execution_count": 84,
   "metadata": {
    "colab": {
     "base_uri": "https://localhost:8080/",
     "height": 34
    },
    "colab_type": "code",
    "executionInfo": {
     "elapsed": 5185,
     "status": "ok",
     "timestamp": 1579331203304,
     "user": {
      "displayName": "krystal 1952",
      "photoUrl": "https://lh3.googleusercontent.com/a-/AAuE7mAprkGvSyW4usm3KAaX5gwfmf3YvtGa-JGK5QUv=s64",
      "userId": "14175600639714673624"
     },
     "user_tz": -330
    },
    "id": "2R7lvQlmPFU9",
    "outputId": "67dd978f-5264-465f-fea9-e06aa68e6f54"
   },
   "outputs": [
    {
     "name": "stdout",
     "output_type": "stream",
     "text": [
      "WARNING:tensorflow:Large dropout rate: 0.6 (>0.5). In TensorFlow 2.x, dropout() uses dropout rate instead of keep_prob. Please ensure that this is intended.\n"
     ]
    }
   ],
   "source": [
    "model = load_model(\"model.h3\")"
   ]
  },
  {
   "cell_type": "code",
   "execution_count": 0,
   "metadata": {
    "colab": {},
    "colab_type": "code",
    "id": "iMpd_E9-PFU_"
   },
   "outputs": [],
   "source": [
    "def predictions(text):\n",
    "  clean = re.sub(r'[^ a-z A-Z 0-9]', \" \", text)\n",
    "  test_word = word_tokenize(clean)\n",
    "  test_word = [lemmatizer.lemmatize(w.lower()) for w in test_word]\n",
    "  test_ls = word_tokenizer.texts_to_sequences(test_word)\n",
    "  print(test_word)\n",
    "  #Check for unknown words\n",
    "  if [] in test_ls:\n",
    "    test_ls = list(filter(None, test_ls))\n",
    "  test_ls = np.array(test_ls).reshape(1, len(test_ls))\n",
    "  x = padding_doc(test_ls, max_length)\n",
    "  pred = model.predict_proba(x)\n",
    "  return pred"
   ]
  },
  {
   "cell_type": "code",
   "execution_count": 0,
   "metadata": {
    "colab": {},
    "colab_type": "code",
    "id": "HPVR4pC9PFVC"
   },
   "outputs": [],
   "source": [
    "def get_single_output(pred, classes):\n",
    "    predictions = pred[0]\n",
    "    classes = np.array(classes)\n",
    "    ids = np.argsort(-predictions)\n",
    "    classes = classes[ids]\n",
    "    predictions = -np.sort(-predictions)\n",
    "    for i in range(pred.shape[0]):   \n",
    "        print(\"%s --- has confidence = %s\" % (classes[i], (predictions[i])))"
   ]
  },
  {
   "cell_type": "code",
   "execution_count": 0,
   "metadata": {
    "colab": {},
    "colab_type": "code",
    "id": "14garySjPFVE"
   },
   "outputs": [],
   "source": [
    "def get_multiple_output(pred, classes):\n",
    "    predictions = pred[0]\n",
    "    classes = np.array(classes)\n",
    "    ids = np.argsort(-predictions)\n",
    "    classes = classes[ids]\n",
    "    predictions = -np.sort(-predictions)\n",
    "    for i in range(pred.shape[1]):   \n",
    "        print(\"%s --- has confidence = %s\" % (classes[i], (predictions[i])))"
   ]
  },
  {
   "cell_type": "code",
   "execution_count": 88,
   "metadata": {
    "colab": {
     "base_uri": "https://localhost:8080/",
     "height": 34
    },
    "colab_type": "code",
    "executionInfo": {
     "elapsed": 1429,
     "status": "ok",
     "timestamp": 1579331227493,
     "user": {
      "displayName": "krystal 1952",
      "photoUrl": "https://lh3.googleusercontent.com/a-/AAuE7mAprkGvSyW4usm3KAaX5gwfmf3YvtGa-JGK5QUv=s64",
      "userId": "14175600639714673624"
     },
     "user_tz": -330
    },
    "id": "TFPO535JPFVG",
    "outputId": "0b946a7e-bede-4eae-93b9-3dee61c91372"
   },
   "outputs": [
    {
     "name": "stdout",
     "output_type": "stream",
     "text": [
      "['where', 'is', 'bmw', 'garage', 'dealership', 'in', 'bangalore']\n"
     ]
    }
   ],
   "source": [
    "text = \"Where is bmw garages dealership in bangalore?\"\n",
    "pred = predictions(text)"
   ]
  },
  {
   "cell_type": "code",
   "execution_count": 91,
   "metadata": {
    "colab": {
     "base_uri": "https://localhost:8080/",
     "height": 34
    },
    "colab_type": "code",
    "executionInfo": {
     "elapsed": 855,
     "status": "ok",
     "timestamp": 1579331272921,
     "user": {
      "displayName": "krystal 1952",
      "photoUrl": "https://lh3.googleusercontent.com/a-/AAuE7mAprkGvSyW4usm3KAaX5gwfmf3YvtGa-JGK5QUv=s64",
      "userId": "14175600639714673624"
     },
     "user_tz": -330
    },
    "id": "v22Nhq19PFVI",
    "outputId": "6f816de6-92fc-42ca-eae7-b9f32cbb47bb"
   },
   "outputs": [
    {
     "name": "stdout",
     "output_type": "stream",
     "text": [
      "bmw_city --- has confidence = 0.99881727\n"
     ]
    }
   ],
   "source": [
    "get_single_output(pred, unique_intent)\n",
    "#get_multiple_output(pred, unique_intent)"
   ]
  },
  {
   "cell_type": "code",
   "execution_count": 0,
   "metadata": {
    "colab": {},
    "colab_type": "code",
    "id": "1S3KQQTTPFVK"
   },
   "outputs": [],
   "source": []
  }
 ],
 "metadata": {
  "accelerator": "GPU",
  "colab": {
   "collapsed_sections": [],
   "name": "nlp_version_3.ipynb",
   "provenance": [
    {
     "file_id": "1bZe-FBSs1-moyFbT6cqqsKW1fQLCA-xA",
     "timestamp": 1579292093100
    }
   ],
   "toc_visible": true
  },
  "kernelspec": {
   "display_name": "Python 3",
   "language": "python",
   "name": "python3"
  },
  "language_info": {
   "codemirror_mode": {
    "name": "ipython",
    "version": 3
   },
   "file_extension": ".py",
   "mimetype": "text/x-python",
   "name": "python",
   "nbconvert_exporter": "python",
   "pygments_lexer": "ipython3",
   "version": "3.6.9"
  }
 },
 "nbformat": 4,
 "nbformat_minor": 1
}
